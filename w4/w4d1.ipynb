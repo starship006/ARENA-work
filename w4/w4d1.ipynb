{
 "cells": [
  {
   "cell_type": "markdown",
   "metadata": {},
   "source": [
    "# Generative Adversarial Networks"
   ]
  },
  {
   "cell_type": "markdown",
   "metadata": {},
   "source": [
    "Transposed Convolutions"
   ]
  },
  {
   "cell_type": "code",
   "execution_count": 1,
   "metadata": {},
   "outputs": [],
   "source": [
    "import torch as t\n",
    "import utils\n",
    "import past\n",
    "import einops\n",
    "import typing\n",
    "from typing import Union"
   ]
  },
  {
   "cell_type": "code",
   "execution_count": 2,
   "metadata": {},
   "outputs": [
    {
     "name": "stdout",
     "output_type": "stream",
     "text": [
      "All tests in `test_conv1d_minimal` passed!\n"
     ]
    }
   ],
   "source": [
    "def conv_transpose1d_minimal(x: t.Tensor, weights: t.Tensor) -> t.Tensor:\n",
    "    '''Like torch's conv_transpose1d using bias=False and all other keyword arguments left at their default values.\n",
    "\n",
    "    x: shape (batch, in_channels, width)\n",
    "    weights: shape (in_channels, out_channels, kernel_width)\n",
    "\n",
    "    Returns: shape (batch, out_channels, output_width)\n",
    "    '''\n",
    "\n",
    "    pad_size = weights.shape[2] - 1\n",
    "    pad_x = past.pad1d(x, pad_size, pad_size, 0)\n",
    "    kernel_mod = weights.flip(-1)\n",
    "    kernel_mod = einops.rearrange(kernel_mod, 'in_channels out_channels kernel_width -> out_channels in_channels kernel_width')\n",
    "    return past.conv1d_minimal(pad_x, kernel_mod)\n",
    "\n",
    "\n",
    "utils.test_conv_transpose1d_minimal(conv_transpose1d_minimal)"
   ]
  },
  {
   "cell_type": "code",
   "execution_count": 6,
   "metadata": {},
   "outputs": [
    {
     "name": "stdout",
     "output_type": "stream",
     "text": [
      "All tests in `test_fractional_stride_1d` passed!\n"
     ]
    }
   ],
   "source": [
    "def fractional_stride_1d(x, stride: int = 1):\n",
    "    '''Returns a version of x suitable for transposed convolutions, i.e. \"spaced out\" with zeros between its values.\n",
    "    This spacing only happens along the last dimension.\n",
    "\n",
    "    x: shape (batch, in_channels, width)\n",
    "\n",
    "    Example: \n",
    "        x = [[[1, 2, 3], [4, 5, 6]]]\n",
    "        stride = 2\n",
    "        output = [[[1, 0, 2, 0, 3], [4, 0, 5, 0, 6]]]\n",
    "    '''\n",
    "\n",
    "    batch, in_channels, width = x.shape\n",
    "    new_width = (width - 1) * stride + 1\n",
    "    new_x = t.zeros((batch, in_channels, new_width), dtype=x.dtype)\n",
    "\n",
    "    new_x[:, :, ::stride] = x\n",
    "\n",
    "    return new_x\n",
    "\n",
    "utils.test_fractional_stride_1d(fractional_stride_1d)"
   ]
  },
  {
   "cell_type": "code",
   "execution_count": 7,
   "metadata": {},
   "outputs": [
    {
     "name": "stdout",
     "output_type": "stream",
     "text": [
      "All tests in `test_conv_transpose1d` passed!\n"
     ]
    }
   ],
   "source": [
    "def conv_transpose1d(x, weights, stride: int = 1, padding: int = 0) -> t.Tensor:\n",
    "    '''Like torch's conv_transpose1d using bias=False and all other keyword arguments left at their default values.\n",
    "\n",
    "    x: shape (batch, in_channels, width)\n",
    "    weights: shape (out_channels, in_channels, kernel_width)\n",
    "\n",
    "    Returns: shape (batch, out_channels, output_width)\n",
    "    '''\n",
    "\n",
    "    #print(x[0])\n",
    "    new_x = fractional_stride_1d(x, stride)\n",
    "    #print(new_x[0])\n",
    "\n",
    "    pad_size = weights.shape[2] - 1 - padding\n",
    "    pad_x = past.pad1d(new_x, pad_size, pad_size, 0)\n",
    "    kernel_mod = weights.flip(-1)\n",
    "    kernel_mod = einops.rearrange(kernel_mod, 'in_channels out_channels kernel_width -> out_channels in_channels kernel_width')\n",
    "    \n",
    "    pad_x = pad_x.float()\n",
    "    return past.conv1d_minimal(pad_x, kernel_mod)\n",
    "    \n",
    "utils.test_conv_transpose1d(conv_transpose1d)"
   ]
  },
  {
   "cell_type": "code",
   "execution_count": 8,
   "metadata": {},
   "outputs": [
    {
     "name": "stdout",
     "output_type": "stream",
     "text": [
      "All tests in `test_conv_transpose2d` passed!\n"
     ]
    }
   ],
   "source": [
    "IntOrPair = Union[int, tuple[int, int]]\n",
    "Pair = tuple[int, int]\n",
    "\n",
    "def force_pair(v: IntOrPair) -> Pair:\n",
    "    '''Convert v to a pair of int, if it isn't already.'''\n",
    "    if isinstance(v, tuple):\n",
    "        if len(v) != 2:\n",
    "            raise ValueError(v)\n",
    "        return (int(v[0]), int(v[1]))\n",
    "    elif isinstance(v, int):\n",
    "        return (v, v)\n",
    "    raise ValueError(v)\n",
    "\n",
    "def fractional_stride_2d(x, stride_h: int, stride_w: int):\n",
    "    '''\n",
    "    Same as fractional_stride_1d, except we apply it along the last 2 dims of x (width and height).\n",
    "    '''\n",
    "    batch, in_channels, height, width = x.shape\n",
    "    new_width = (width - 1) * stride_w + 1\n",
    "    new_height = (height - 1) * stride_h + 1\n",
    "    new_x = t.zeros((batch, in_channels, new_height, new_width))\n",
    "\n",
    "    new_x[:, :, ::stride_h, ::stride_w] = x\n",
    "\n",
    "    return new_x\n",
    "\n",
    "def conv_transpose2d(x, weights, stride: IntOrPair = 1, padding: IntOrPair = 0) -> t.Tensor:\n",
    "    '''Like torch's conv_transpose2d using bias=False\n",
    "\n",
    "    x: shape (batch, in_channels, height, width)\n",
    "    weights: shape (out_channels, in_channels, kernel_height, kernel_width)\n",
    "\n",
    "\n",
    "    Returns: shape (batch, out_channels, output_height, output_width)\n",
    "    '''\n",
    "    stride: Pair = force_pair(stride)\n",
    "    padding: Pair = force_pair(padding)\n",
    "\n",
    "    #print(x[0])\n",
    "    new_x = fractional_stride_2d(x, stride[0], stride[1])\n",
    "    #print(new_x[0])\n",
    "\n",
    "    pad_size_h = weights.shape[-2] - 1 - padding[0]\n",
    "    pad_size_w = weights.shape[-1] - 1 - padding[1]\n",
    "    pad_x = past.pad2d(new_x, pad_size_w, pad_size_w, pad_size_h, pad_size_h,  0)\n",
    "    kernel_mod = weights.flip(-1)\n",
    "    kernel_mod = kernel_mod.flip(-2)\n",
    "\n",
    "    kernel_mod = einops.rearrange(kernel_mod, 'in_channels out_channels kernel_height kernel_width -> out_channels in_channels kernel_height kernel_width')\n",
    "    \n",
    "    pad_x = pad_x.float()\n",
    "    return past.conv2d_minimal(pad_x, kernel_mod)\n",
    "    pass\n",
    "\n",
    "utils.test_conv_transpose2d(conv_transpose2d)"
   ]
  },
  {
   "cell_type": "code",
   "execution_count": null,
   "metadata": {},
   "outputs": [],
   "source": []
  }
 ],
 "metadata": {
  "kernelspec": {
   "display_name": "Python 3.9.13 ('ARENAenv')",
   "language": "python",
   "name": "python3"
  },
  "language_info": {
   "codemirror_mode": {
    "name": "ipython",
    "version": 3
   },
   "file_extension": ".py",
   "mimetype": "text/x-python",
   "name": "python",
   "nbconvert_exporter": "python",
   "pygments_lexer": "ipython3",
   "version": "3.9.13"
  },
  "orig_nbformat": 4,
  "vscode": {
   "interpreter": {
    "hash": "c1829bf021947e771a2c0399247f13cc64d76e227c4c4356073fc0c03f05b7ca"
   }
  }
 },
 "nbformat": 4,
 "nbformat_minor": 2
}
