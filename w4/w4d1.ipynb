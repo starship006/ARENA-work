{
 "cells": [
  {
   "cell_type": "markdown",
   "metadata": {},
   "source": [
    "# Generative Adversarial Networks"
   ]
  },
  {
   "cell_type": "markdown",
   "metadata": {},
   "source": [
    "Cody from the future here - week four is unfinished! I took about a week break and skipped straight to the Training at Scale. I hope to return to this entire section later and actually produce the DCGAN"
   ]
  },
  {
   "cell_type": "markdown",
   "metadata": {},
   "source": [
    "Transposed Convolutions"
   ]
  },
  {
   "cell_type": "code",
   "execution_count": 1,
   "metadata": {},
   "outputs": [],
   "source": [
    "import torch as t\n",
    "import torch.nn as nn\n",
    "import utils\n",
    "import past\n",
    "import einops\n",
    "import typing\n",
    "from typing import Union"
   ]
  },
  {
   "cell_type": "code",
   "execution_count": 2,
   "metadata": {},
   "outputs": [
    {
     "name": "stdout",
     "output_type": "stream",
     "text": [
      "All tests in `test_conv1d_minimal` passed!\n"
     ]
    }
   ],
   "source": [
    "def conv_transpose1d_minimal(x: t.Tensor, weights: t.Tensor) -> t.Tensor:\n",
    "    '''Like torch's conv_transpose1d using bias=False and all other keyword arguments left at their default values.\n",
    "\n",
    "    x: shape (batch, in_channels, width)\n",
    "    weights: shape (in_channels, out_channels, kernel_width)\n",
    "\n",
    "    Returns: shape (batch, out_channels, output_width)\n",
    "    '''\n",
    "\n",
    "    pad_size = weights.shape[2] - 1\n",
    "    pad_x = past.pad1d(x, pad_size, pad_size, 0)\n",
    "    kernel_mod = weights.flip(-1)\n",
    "    kernel_mod = einops.rearrange(kernel_mod, 'in_channels out_channels kernel_width -> out_channels in_channels kernel_width')\n",
    "    return past.conv1d_minimal(pad_x, kernel_mod)\n",
    "\n",
    "\n",
    "utils.test_conv_transpose1d_minimal(conv_transpose1d_minimal)"
   ]
  },
  {
   "cell_type": "code",
   "execution_count": 3,
   "metadata": {},
   "outputs": [
    {
     "name": "stdout",
     "output_type": "stream",
     "text": [
      "All tests in `test_fractional_stride_1d` passed!\n"
     ]
    }
   ],
   "source": [
    "def fractional_stride_1d(x, stride: int = 1):\n",
    "    '''Returns a version of x suitable for transposed convolutions, i.e. \"spaced out\" with zeros between its values.\n",
    "    This spacing only happens along the last dimension.\n",
    "\n",
    "    x: shape (batch, in_channels, width)\n",
    "\n",
    "    Example: \n",
    "        x = [[[1, 2, 3], [4, 5, 6]]]\n",
    "        stride = 2\n",
    "        output = [[[1, 0, 2, 0, 3], [4, 0, 5, 0, 6]]]\n",
    "    '''\n",
    "\n",
    "    batch, in_channels, width = x.shape\n",
    "    new_width = (width - 1) * stride + 1\n",
    "    new_x = t.zeros((batch, in_channels, new_width), dtype=x.dtype)\n",
    "\n",
    "    new_x[:, :, ::stride] = x\n",
    "\n",
    "    return new_x\n",
    "\n",
    "utils.test_fractional_stride_1d(fractional_stride_1d)"
   ]
  },
  {
   "cell_type": "code",
   "execution_count": 4,
   "metadata": {},
   "outputs": [
    {
     "name": "stdout",
     "output_type": "stream",
     "text": [
      "All tests in `test_conv_transpose1d` passed!\n"
     ]
    }
   ],
   "source": [
    "def conv_transpose1d(x, weights, stride: int = 1, padding: int = 0) -> t.Tensor:\n",
    "    '''Like torch's conv_transpose1d using bias=False and all other keyword arguments left at their default values.\n",
    "\n",
    "    x: shape (batch, in_channels, width)\n",
    "    weights: shape (in_channels, out_channels, kernel_width)\n",
    "\n",
    "    Returns: shape (batch, out_channels, output_width)\n",
    "    '''\n",
    "\n",
    "    #print(x[0])\n",
    "    new_x = fractional_stride_1d(x, stride)\n",
    "    #print(new_x[0])\n",
    "\n",
    "    pad_size = weights.shape[2] - 1 - padding\n",
    "    pad_x = past.pad1d(new_x, pad_size, pad_size, 0)\n",
    "    kernel_mod = weights.flip(-1)\n",
    "    kernel_mod = einops.rearrange(kernel_mod, 'in_channels out_channels kernel_width -> out_channels in_channels kernel_width')\n",
    "    \n",
    "    pad_x = pad_x.float()\n",
    "    return past.conv1d_minimal(pad_x, kernel_mod)\n",
    "    \n",
    "utils.test_conv_transpose1d(conv_transpose1d)"
   ]
  },
  {
   "cell_type": "code",
   "execution_count": 5,
   "metadata": {},
   "outputs": [
    {
     "data": {
      "text/plain": [
       "tensor([[[ 6., 12., 18., 22., 16.]]])"
      ]
     },
     "execution_count": 5,
     "metadata": {},
     "output_type": "execute_result"
    }
   ],
   "source": [
    "# testing it personally\n",
    "to_trans = t.tensor([[[1.,5.,6.,7.,9.]]], dtype=t.float64)\n",
    "conv_transpose1d(to_trans, t.tensor([[[1.,1.,1.]]], dtype=t.float32),padding=1)"
   ]
  },
  {
   "cell_type": "code",
   "execution_count": 6,
   "metadata": {},
   "outputs": [
    {
     "name": "stdout",
     "output_type": "stream",
     "text": [
      "All tests in `test_conv_transpose2d` passed!\n"
     ]
    }
   ],
   "source": [
    "IntOrPair = Union[int, tuple[int, int]]\n",
    "Pair = tuple[int, int]\n",
    "\n",
    "def force_pair(v: IntOrPair) -> Pair:\n",
    "    '''Convert v to a pair of int, if it isn't already.'''\n",
    "    if isinstance(v, tuple):\n",
    "        if len(v) != 2:\n",
    "            raise ValueError(v)\n",
    "        return (int(v[0]), int(v[1]))\n",
    "    elif isinstance(v, int):\n",
    "        return (v, v)\n",
    "    raise ValueError(v)\n",
    "\n",
    "def fractional_stride_2d(x, stride_h: int, stride_w: int):\n",
    "    '''\n",
    "    Same as fractional_stride_1d, except we apply it along the last 2 dims of x (width and height).\n",
    "    '''\n",
    "    batch, in_channels, height, width = x.shape\n",
    "    new_width = (width - 1) * stride_w + 1\n",
    "    new_height = (height - 1) * stride_h + 1\n",
    "    new_x = t.zeros((batch, in_channels, new_height, new_width))\n",
    "\n",
    "    new_x[:, :, ::stride_h, ::stride_w] = x\n",
    "\n",
    "    return new_x\n",
    "\n",
    "def conv_transpose2d(x, weights, stride: IntOrPair = 1, padding: IntOrPair = 0) -> t.Tensor:\n",
    "    '''Like torch's conv_transpose2d using bias=False\n",
    "\n",
    "    x: shape (batch, in_channels, height, width)\n",
    "    weights: shape (in_channels, out_channels, kernel_height, kernel_width)\n",
    "\n",
    "\n",
    "    Returns: shape (batch, out_channels, output_height, output_width)\n",
    "    '''\n",
    "    stride: Pair = force_pair(stride)\n",
    "    padding: Pair = force_pair(padding)\n",
    "\n",
    "    #print(x[0])\n",
    "    new_x = fractional_stride_2d(x, stride[0], stride[1])\n",
    "    #print(new_x[0])\n",
    "\n",
    "    pad_size_h = weights.shape[-2] - 1 - padding[0]\n",
    "    pad_size_w = weights.shape[-1] - 1 - padding[1]\n",
    "    pad_x = past.pad2d(new_x, pad_size_w, pad_size_w, pad_size_h, pad_size_h,  0)\n",
    "    kernel_mod = weights.flip(-1)\n",
    "    kernel_mod = kernel_mod.flip(-2)\n",
    "    kernel_mod = einops.rearrange(kernel_mod, 'in_channels out_channels kernel_height kernel_width -> out_channels in_channels kernel_height kernel_width')\n",
    "\n",
    "    pad_x = pad_x.float()\n",
    "    return past.conv2d_minimal(pad_x, kernel_mod)\n",
    "    pass\n",
    "\n",
    "utils.test_conv_transpose2d(conv_transpose2d)"
   ]
  },
  {
   "cell_type": "markdown",
   "metadata": {},
   "source": [
    "## Other Modules"
   ]
  },
  {
   "cell_type": "code",
   "execution_count": 7,
   "metadata": {},
   "outputs": [
    {
     "name": "stdout",
     "output_type": "stream",
     "text": [
      "torch.Size([2, 5, 20, 38])\n",
      "torch.Size([5, 2, 7, 5])\n",
      "------\n",
      "torch.Size([2, 2, 20, 110])\n",
      "torch.Size([2, 2, 20, 110])\n",
      "torch.Size([5, 11, 48, 48])\n",
      "torch.Size([11, 2, 5, 6])\n",
      "------\n",
      "torch.Size([5, 2, 46, 147])\n",
      "torch.Size([5, 2, 46, 147])\n",
      "torch.Size([7, 5, 24, 32])\n",
      "torch.Size([5, 3, 4, 7])\n",
      "------\n",
      "torch.Size([7, 3, 25, 92])\n",
      "torch.Size([7, 3, 25, 92])\n",
      "torch.Size([5, 5, 11, 30])\n",
      "torch.Size([5, 4, 4, 3])\n",
      "------\n",
      "torch.Size([5, 4, 40, 30])\n",
      "torch.Size([5, 4, 40, 30])\n",
      "torch.Size([6, 10, 30, 44])\n",
      "torch.Size([10, 1, 2, 7])\n",
      "------\n",
      "torch.Size([6, 1, 87, 85])\n",
      "torch.Size([6, 1, 87, 85])\n",
      "All tests in `test_ConvTranspose2d` passed!\n"
     ]
    }
   ],
   "source": [
    "class ConvTranspose2d(nn.Module):\n",
    "    def __init__(\n",
    "        self, in_channels: int, out_channels: int, kernel_size: IntOrPair, stride: IntOrPair = 1, padding: IntOrPair = 0\n",
    "    ):\n",
    "        '''\n",
    "        Same as torch.nn.ConvTranspose2d with bias=False.\n",
    "\n",
    "        Name your weight field `self.weight` for compatibility with the tests.\n",
    "        '''\n",
    "\n",
    "\n",
    "            # x: shape (batch, in_channels, height, width)\n",
    "            # weights: shape (out_channels, in_channels, kernel_height, kernel_width)\n",
    "            # returns: shape (batch, out_channels, output_height, output_width)\n",
    "\n",
    "\n",
    "        super().__init__()\n",
    "        kernel_size = force_pair(kernel_size)\n",
    "        k = (1 / (out_channels * kernel_size[0] * kernel_size[1])) ** 0.5\n",
    "        self.weight = nn.Parameter(t.rand((in_channels, out_channels, kernel_size[0], kernel_size[1])) * (k * 2) - k)\n",
    "        # print(self.weight.shape)\n",
    "        self.stride = force_pair(stride)\n",
    "        self.padding = force_pair(padding)\n",
    "\n",
    "    def forward(self, x: t.Tensor) -> t.Tensor:\n",
    "        return conv_transpose2d(x, self.weight, self.stride, self.padding)\n",
    "\n",
    "utils.test_ConvTranspose2d(ConvTranspose2d)"
   ]
  },
  {
   "cell_type": "code",
   "execution_count": 8,
   "metadata": {},
   "outputs": [
    {
     "name": "stdout",
     "output_type": "stream",
     "text": [
      "All tests in `test_Tanh` passed.\n"
     ]
    }
   ],
   "source": [
    "class Tanh(nn.Module):\n",
    "    def forward(self, x: t.Tensor) -> t.Tensor:\n",
    "        return (t.e ** x - t.e ** (-1 * x)) / (t.e ** x + t.e ** (-1 * x))\n",
    "\n",
    "utils.test_Tanh(Tanh)"
   ]
  },
  {
   "cell_type": "code",
   "execution_count": 9,
   "metadata": {},
   "outputs": [
    {
     "name": "stdout",
     "output_type": "stream",
     "text": [
      "All tests in `test_LeakyReLU` passed.\n"
     ]
    }
   ],
   "source": [
    "class LeakyReLU(nn.Module):\n",
    "    def __init__(self, negative_slope: float = 0.01):\n",
    "        super().__init__()\n",
    "        self.negslope = negative_slope\n",
    "\n",
    "    def forward(self, x: t.Tensor) -> t.Tensor:\n",
    "        return t.maximum(x, t.zeros(x.shape)) + self.negslope * t.minimum(x, t.zeros(x.shape))\n",
    "\n",
    "    def extra_repr(self) -> str:\n",
    "        pass\n",
    "\n",
    "utils.test_LeakyReLU(LeakyReLU)"
   ]
  },
  {
   "cell_type": "code",
   "execution_count": 10,
   "metadata": {},
   "outputs": [
    {
     "name": "stdout",
     "output_type": "stream",
     "text": [
      "All tests in `test_Sigmoid` passed.\n"
     ]
    }
   ],
   "source": [
    "class Sigmoid(nn.Module):\n",
    "    def forward(self, x: t.Tensor) -> t.Tensor:\n",
    "        return 1 / (1 + t.e ** (-1 * x))\n",
    "\n",
    "utils.test_Sigmoid(Sigmoid)"
   ]
  },
  {
   "cell_type": "markdown",
   "metadata": {},
   "source": [
    "# Building the Model"
   ]
  },
  {
   "cell_type": "code",
   "execution_count": 8,
   "metadata": {},
   "outputs": [
    {
     "ename": "FileNotFoundError",
     "evalue": "Couldn't find any class folder in img_align_celeba.",
     "output_type": "error",
     "traceback": [
      "\u001b[0;31m---------------------------------------------------------------------------\u001b[0m",
      "\u001b[0;31mFileNotFoundError\u001b[0m                         Traceback (most recent call last)",
      "Cell \u001b[0;32mIn [8], line 11\u001b[0m\n\u001b[1;32m      3\u001b[0m image_size \u001b[39m=\u001b[39m \u001b[39m60\u001b[39m\n\u001b[1;32m      5\u001b[0m transform \u001b[39m=\u001b[39m transforms\u001b[39m.\u001b[39mCompose([\n\u001b[1;32m      6\u001b[0m     transforms\u001b[39m.\u001b[39mResize(image_size),\n\u001b[1;32m      7\u001b[0m     transforms\u001b[39m.\u001b[39mToTensor(),\n\u001b[1;32m      8\u001b[0m     transforms\u001b[39m.\u001b[39mNormalize((\u001b[39m0.5\u001b[39m,\u001b[39m0.5\u001b[39m,\u001b[39m0.5\u001b[39m), (\u001b[39m0.5\u001b[39m,\u001b[39m0.5\u001b[39m,\u001b[39m0.5\u001b[39m))\n\u001b[1;32m      9\u001b[0m ])\n\u001b[0;32m---> 11\u001b[0m trainset \u001b[39m=\u001b[39m datasets\u001b[39m.\u001b[39;49mImageFolder(\n\u001b[1;32m     12\u001b[0m     root \u001b[39m=\u001b[39;49m \u001b[39m\"\u001b[39;49m\u001b[39mimg_align_celeba\u001b[39;49m\u001b[39m\"\u001b[39;49m,\n\u001b[1;32m     13\u001b[0m     transform \u001b[39m=\u001b[39;49m transform\n\u001b[1;32m     14\u001b[0m )\n",
      "File \u001b[0;32m~/mambaforge/envs/ARENAenv/lib/python3.9/site-packages/torchvision/datasets/folder.py:310\u001b[0m, in \u001b[0;36mImageFolder.__init__\u001b[0;34m(self, root, transform, target_transform, loader, is_valid_file)\u001b[0m\n\u001b[1;32m    302\u001b[0m \u001b[39mdef\u001b[39;00m \u001b[39m__init__\u001b[39m(\n\u001b[1;32m    303\u001b[0m     \u001b[39mself\u001b[39m,\n\u001b[1;32m    304\u001b[0m     root: \u001b[39mstr\u001b[39m,\n\u001b[0;32m   (...)\u001b[0m\n\u001b[1;32m    308\u001b[0m     is_valid_file: Optional[Callable[[\u001b[39mstr\u001b[39m], \u001b[39mbool\u001b[39m]] \u001b[39m=\u001b[39m \u001b[39mNone\u001b[39;00m,\n\u001b[1;32m    309\u001b[0m ):\n\u001b[0;32m--> 310\u001b[0m     \u001b[39msuper\u001b[39;49m()\u001b[39m.\u001b[39;49m\u001b[39m__init__\u001b[39;49m(\n\u001b[1;32m    311\u001b[0m         root,\n\u001b[1;32m    312\u001b[0m         loader,\n\u001b[1;32m    313\u001b[0m         IMG_EXTENSIONS \u001b[39mif\u001b[39;49;00m is_valid_file \u001b[39mis\u001b[39;49;00m \u001b[39mNone\u001b[39;49;00m \u001b[39melse\u001b[39;49;00m \u001b[39mNone\u001b[39;49;00m,\n\u001b[1;32m    314\u001b[0m         transform\u001b[39m=\u001b[39;49mtransform,\n\u001b[1;32m    315\u001b[0m         target_transform\u001b[39m=\u001b[39;49mtarget_transform,\n\u001b[1;32m    316\u001b[0m         is_valid_file\u001b[39m=\u001b[39;49mis_valid_file,\n\u001b[1;32m    317\u001b[0m     )\n\u001b[1;32m    318\u001b[0m     \u001b[39mself\u001b[39m\u001b[39m.\u001b[39mimgs \u001b[39m=\u001b[39m \u001b[39mself\u001b[39m\u001b[39m.\u001b[39msamples\n",
      "File \u001b[0;32m~/mambaforge/envs/ARENAenv/lib/python3.9/site-packages/torchvision/datasets/folder.py:145\u001b[0m, in \u001b[0;36mDatasetFolder.__init__\u001b[0;34m(self, root, loader, extensions, transform, target_transform, is_valid_file)\u001b[0m\n\u001b[1;32m    135\u001b[0m \u001b[39mdef\u001b[39;00m \u001b[39m__init__\u001b[39m(\n\u001b[1;32m    136\u001b[0m     \u001b[39mself\u001b[39m,\n\u001b[1;32m    137\u001b[0m     root: \u001b[39mstr\u001b[39m,\n\u001b[0;32m   (...)\u001b[0m\n\u001b[1;32m    142\u001b[0m     is_valid_file: Optional[Callable[[\u001b[39mstr\u001b[39m], \u001b[39mbool\u001b[39m]] \u001b[39m=\u001b[39m \u001b[39mNone\u001b[39;00m,\n\u001b[1;32m    143\u001b[0m ) \u001b[39m-\u001b[39m\u001b[39m>\u001b[39m \u001b[39mNone\u001b[39;00m:\n\u001b[1;32m    144\u001b[0m     \u001b[39msuper\u001b[39m()\u001b[39m.\u001b[39m\u001b[39m__init__\u001b[39m(root, transform\u001b[39m=\u001b[39mtransform, target_transform\u001b[39m=\u001b[39mtarget_transform)\n\u001b[0;32m--> 145\u001b[0m     classes, class_to_idx \u001b[39m=\u001b[39m \u001b[39mself\u001b[39;49m\u001b[39m.\u001b[39;49mfind_classes(\u001b[39mself\u001b[39;49m\u001b[39m.\u001b[39;49mroot)\n\u001b[1;32m    146\u001b[0m     samples \u001b[39m=\u001b[39m \u001b[39mself\u001b[39m\u001b[39m.\u001b[39mmake_dataset(\u001b[39mself\u001b[39m\u001b[39m.\u001b[39mroot, class_to_idx, extensions, is_valid_file)\n\u001b[1;32m    148\u001b[0m     \u001b[39mself\u001b[39m\u001b[39m.\u001b[39mloader \u001b[39m=\u001b[39m loader\n",
      "File \u001b[0;32m~/mambaforge/envs/ARENAenv/lib/python3.9/site-packages/torchvision/datasets/folder.py:219\u001b[0m, in \u001b[0;36mDatasetFolder.find_classes\u001b[0;34m(self, directory)\u001b[0m\n\u001b[1;32m    192\u001b[0m \u001b[39mdef\u001b[39;00m \u001b[39mfind_classes\u001b[39m(\u001b[39mself\u001b[39m, directory: \u001b[39mstr\u001b[39m) \u001b[39m-\u001b[39m\u001b[39m>\u001b[39m Tuple[List[\u001b[39mstr\u001b[39m], Dict[\u001b[39mstr\u001b[39m, \u001b[39mint\u001b[39m]]:\n\u001b[1;32m    193\u001b[0m     \u001b[39m\"\"\"Find the class folders in a dataset structured as follows::\u001b[39;00m\n\u001b[1;32m    194\u001b[0m \n\u001b[1;32m    195\u001b[0m \u001b[39m        directory/\u001b[39;00m\n\u001b[0;32m   (...)\u001b[0m\n\u001b[1;32m    217\u001b[0m \u001b[39m        (Tuple[List[str], Dict[str, int]]): List of all classes and dictionary mapping each class to an index.\u001b[39;00m\n\u001b[1;32m    218\u001b[0m \u001b[39m    \"\"\"\u001b[39;00m\n\u001b[0;32m--> 219\u001b[0m     \u001b[39mreturn\u001b[39;00m find_classes(directory)\n",
      "File \u001b[0;32m~/mambaforge/envs/ARENAenv/lib/python3.9/site-packages/torchvision/datasets/folder.py:43\u001b[0m, in \u001b[0;36mfind_classes\u001b[0;34m(directory)\u001b[0m\n\u001b[1;32m     41\u001b[0m classes \u001b[39m=\u001b[39m \u001b[39msorted\u001b[39m(entry\u001b[39m.\u001b[39mname \u001b[39mfor\u001b[39;00m entry \u001b[39min\u001b[39;00m os\u001b[39m.\u001b[39mscandir(directory) \u001b[39mif\u001b[39;00m entry\u001b[39m.\u001b[39mis_dir())\n\u001b[1;32m     42\u001b[0m \u001b[39mif\u001b[39;00m \u001b[39mnot\u001b[39;00m classes:\n\u001b[0;32m---> 43\u001b[0m     \u001b[39mraise\u001b[39;00m \u001b[39mFileNotFoundError\u001b[39;00m(\u001b[39mf\u001b[39m\u001b[39m\"\u001b[39m\u001b[39mCouldn\u001b[39m\u001b[39m'\u001b[39m\u001b[39mt find any class folder in \u001b[39m\u001b[39m{\u001b[39;00mdirectory\u001b[39m}\u001b[39;00m\u001b[39m.\u001b[39m\u001b[39m\"\u001b[39m)\n\u001b[1;32m     45\u001b[0m class_to_idx \u001b[39m=\u001b[39m {cls_name: i \u001b[39mfor\u001b[39;00m i, cls_name \u001b[39min\u001b[39;00m \u001b[39menumerate\u001b[39m(classes)}\n\u001b[1;32m     46\u001b[0m \u001b[39mreturn\u001b[39;00m classes, class_to_idx\n",
      "\u001b[0;31mFileNotFoundError\u001b[0m: Couldn't find any class folder in img_align_celeba."
     ]
    }
   ],
   "source": [
    "from torchvision import transforms, datasets\n",
    "\n",
    "image_size = 60\n",
    "\n",
    "transform = transforms.Compose([\n",
    "    transforms.Resize(image_size),\n",
    "    transforms.ToTensor(),\n",
    "    transforms.Normalize((0.5,0.5,0.5), (0.5,0.5,0.5))\n",
    "])\n",
    "\n",
    "trainset = datasets.ImageFolder(\n",
    "    root = \"img_align_celeba\",\n",
    "    transform = transform\n",
    ")"
   ]
  },
  {
   "cell_type": "code",
   "execution_count": null,
   "metadata": {},
   "outputs": [],
   "source": []
  }
 ],
 "metadata": {
  "kernelspec": {
   "display_name": "Python 3.9.13 ('ARENAenv')",
   "language": "python",
   "name": "python3"
  },
  "language_info": {
   "codemirror_mode": {
    "name": "ipython",
    "version": 3
   },
   "file_extension": ".py",
   "mimetype": "text/x-python",
   "name": "python",
   "nbconvert_exporter": "python",
   "pygments_lexer": "ipython3",
   "version": "3.9.13"
  },
  "orig_nbformat": 4,
  "vscode": {
   "interpreter": {
    "hash": "c1829bf021947e771a2c0399247f13cc64d76e227c4c4356073fc0c03f05b7ca"
   }
  }
 },
 "nbformat": 4,
 "nbformat_minor": 2
}
