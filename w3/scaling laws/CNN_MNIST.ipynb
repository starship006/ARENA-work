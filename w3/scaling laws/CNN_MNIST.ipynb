{
 "cells": [
  {
   "cell_type": "markdown",
   "metadata": {},
   "source": [
    "# \"Write a script to train a small CNN on MNIST, or find one you have written previously.\""
   ]
  },
  {
   "cell_type": "markdown",
   "metadata": {},
   "source": [
    "Day 1 turned out to be more of a \"relearn how to actually make a CNN, and then implement it out\" type of day"
   ]
  },
  {
   "cell_type": "code",
   "execution_count": 1,
   "metadata": {},
   "outputs": [],
   "source": [
    "import torch as t\n",
    "import torch.nn as nn\n",
    "import torch.nn.functional as F\n",
    "\n",
    "from torch.utils.data import DataLoader\n",
    "from torchvision import datasets, models, transforms"
   ]
  },
  {
   "cell_type": "code",
   "execution_count": 2,
   "metadata": {},
   "outputs": [],
   "source": [
    "class ConvNet(nn.Module):\n",
    "\n",
    "    def __init__(self):\n",
    "        super().__init__()\n",
    "        self.conv1 = nn.Conv2d(1, 6, 5)\n",
    "        self.conv2 = nn.Conv2d(6, 18, 5)\n",
    "\n",
    "        self.lin1 = nn.Linear(18 * 16, 120) # currently hardcoded the 16, don't quite know where it comes from\n",
    "        self.lin2 = nn.Linear(120, 60)\n",
    "        self.lin3 = nn.Linear(60, 10)\n",
    "\n",
    "    def forward(self, x):\n",
    "        # apply convolutions\n",
    "        x = F.max_pool2d(F.relu(self.conv1(x)), (2, 2))\n",
    "        x = F.max_pool2d(F.relu(self.conv2(x)), (2, 2))\n",
    "\n",
    "        #print(x.shape)\n",
    "        # flatten everything except the batch\n",
    "        x = t.flatten(x, 1) \n",
    "\n",
    "        #print(x.shape)\n",
    "\n",
    "        # apply linear layers\n",
    "        x = F.relu(self.lin1(x))\n",
    "        x = F.relu(self.lin2(x))\n",
    "        x = self.lin3(x)\n",
    "        return x\n",
    "        \n",
    "net = ConvNet()\n",
    "optim = t.optim.SGD(net.parameters(),0.1)\n",
    "criterion = nn.CrossEntropyLoss()"
   ]
  },
  {
   "cell_type": "code",
   "execution_count": 3,
   "metadata": {},
   "outputs": [],
   "source": [
    "mnist_trainset = datasets.MNIST(root = './data', train=True, download=True, transform=transforms.ToTensor())\n",
    "mnist_testset = datasets.MNIST(root = './data', train=False, download=True, transform=transforms.ToTensor())\n",
    "\n",
    "train_dl = DataLoader(mnist_trainset, batch_size=64, shuffle=True)\n",
    "test_dl = DataLoader(mnist_testset, batch_size=64, shuffle=True)"
   ]
  },
  {
   "cell_type": "code",
   "execution_count": 4,
   "metadata": {},
   "outputs": [
    {
     "data": {
      "text/plain": [
       "torch.Size([1, 28, 28])"
      ]
     },
     "execution_count": 4,
     "metadata": {},
     "output_type": "execute_result"
    }
   ],
   "source": [
    "mnist_trainset[0][0].shape"
   ]
  },
  {
   "cell_type": "code",
   "execution_count": 5,
   "metadata": {},
   "outputs": [],
   "source": [
    "def train_model(model, train_dl, test_dl, criterion, optimizer, num_epochs: int, val_history):\n",
    "    for epoch in range(num_epochs):\n",
    "        print('Epoch {}/{}'.format(epoch, num_epochs - 1))\n",
    "        print('-' * 10)\n",
    "\n",
    "        # train\n",
    "        for phase in ['train', 'val']:\n",
    "            running_loss = 0.0\n",
    "            running_corrects = 0.0\n",
    "            current_dl = None\n",
    "\n",
    "            if phase == 'train':\n",
    "                model.train()\n",
    "                current_dl = train_dl\n",
    "            else:\n",
    "                model.eval()\n",
    "                current_dl = test_dl\n",
    "            \n",
    "\n",
    "            for inputs, labels in current_dl:\n",
    "                inputs = inputs.float()\n",
    "                labels = labels.float()\n",
    "                optimizer.zero_grad()\n",
    "\n",
    "                with t.set_grad_enabled(phase == 'train'):\n",
    "                    outputs = model(inputs)\n",
    "                    orig_labels = labels\n",
    "                    labels = labels.to(t.int64)\n",
    "                    labels = F.one_hot(labels, 10).to(t.float64)\n",
    "\n",
    "\n",
    "                    loss = criterion(outputs, labels)\n",
    "                    preds = t.argmax(outputs,dim=-1)\n",
    "\n",
    "                    if (phase == 'train'):\n",
    "                        loss.backward()\n",
    "                        optimizer.step()\n",
    "                    \n",
    "                    running_loss += loss.item() * inputs.size(0)\n",
    "                    running_corrects += t.sum(preds == orig_labels.data)\n",
    "\n",
    "            epoch_loss = running_loss / len(current_dl.dataset) # TODO: divide by something else, right????\n",
    "            epoch_acc = running_corrects / len(current_dl.dataset)\n",
    "            print('{} Loss: {:.4f} Acc: {:.4f}'.format(phase, epoch_loss, epoch_acc))\n",
    "            \n",
    "            if phase == 'val':\n",
    "                val_history.append(epoch_acc)\n",
    "        print() \n",
    "    return model, val_history"
   ]
  },
  {
   "cell_type": "code",
   "execution_count": 6,
   "metadata": {},
   "outputs": [],
   "source": [
    "val_history = []"
   ]
  },
  {
   "cell_type": "code",
   "execution_count": 7,
   "metadata": {},
   "outputs": [
    {
     "name": "stdout",
     "output_type": "stream",
     "text": [
      "Epoch 0/2\n",
      "----------\n",
      "train Loss: 0.5253 Acc: 0.8233\n",
      "val Loss: 0.4997 Acc: 0.8787\n",
      "\n",
      "Epoch 1/2\n",
      "----------\n",
      "train Loss: 0.0849 Acc: 0.9734\n",
      "val Loss: 0.1196 Acc: 0.9647\n",
      "\n",
      "Epoch 2/2\n",
      "----------\n",
      "train Loss: 0.0601 Acc: 0.9811\n",
      "val Loss: 0.0458 Acc: 0.9853\n",
      "\n"
     ]
    },
    {
     "data": {
      "text/plain": [
       "(ConvNet(\n",
       "   (conv1): Conv2d(1, 6, kernel_size=(5, 5), stride=(1, 1))\n",
       "   (conv2): Conv2d(6, 18, kernel_size=(5, 5), stride=(1, 1))\n",
       "   (lin1): Linear(in_features=288, out_features=120, bias=True)\n",
       "   (lin2): Linear(in_features=120, out_features=60, bias=True)\n",
       "   (lin3): Linear(in_features=60, out_features=10, bias=True)\n",
       " ),\n",
       " [tensor(0.8787), tensor(0.9647), tensor(0.9853)])"
      ]
     },
     "execution_count": 7,
     "metadata": {},
     "output_type": "execute_result"
    }
   ],
   "source": [
    "train_model(net, train_dl, test_dl, criterion, optim, 3, val_history)"
   ]
  },
  {
   "cell_type": "code",
   "execution_count": 15,
   "metadata": {},
   "outputs": [
    {
     "name": "stdout",
     "output_type": "stream",
     "text": [
      "number: tensor(8)\n",
      "predicted: \n",
      "tensor(8)\n",
      "----------\n",
      "number: tensor(4)\n",
      "predicted: \n",
      "tensor(4)\n",
      "----------\n",
      "number: tensor(6)\n",
      "predicted: \n",
      "tensor(6)\n",
      "----------\n"
     ]
    }
   ],
   "source": [
    "for i in range (3):\n",
    "    for image, value in test_dl:\n",
    "        selectImage = image[0:1]\n",
    "        selectValue = value[0]\n",
    "        #print(selectImage.shape)\n",
    "        print(\"number: \" + str(selectValue))\n",
    "        print(\"predicted: \" )\n",
    "        print(t.argmax(net(selectImage)))\n",
    "\n",
    "        break\n",
    "    print(\"-\" * 10)"
   ]
  },
  {
   "cell_type": "code",
   "execution_count": null,
   "metadata": {},
   "outputs": [],
   "source": []
  }
 ],
 "metadata": {
  "kernelspec": {
   "display_name": "Python 3.9.13 ('ARENAenv')",
   "language": "python",
   "name": "python3"
  },
  "language_info": {
   "codemirror_mode": {
    "name": "ipython",
    "version": 3
   },
   "file_extension": ".py",
   "mimetype": "text/x-python",
   "name": "python",
   "nbconvert_exporter": "python",
   "pygments_lexer": "ipython3",
   "version": "3.9.13"
  },
  "orig_nbformat": 4,
  "vscode": {
   "interpreter": {
    "hash": "c1829bf021947e771a2c0399247f13cc64d76e227c4c4356073fc0c03f05b7ca"
   }
  }
 },
 "nbformat": 4,
 "nbformat_minor": 2
}
