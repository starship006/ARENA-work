{
 "cells": [
  {
   "cell_type": "code",
   "execution_count": 1,
   "metadata": {},
   "outputs": [],
   "source": [
    "import numpy as np\n",
    "import plotly.express as px\n",
    "import plotly.graph_objs as go\n",
    "from typing import Optional, Callable\n",
    "import ipywidgets as wg\n",
    "from fancy_einsum import einsum\n",
    "\n",
    "import utils"
   ]
  },
  {
   "cell_type": "markdown",
   "metadata": {},
   "source": [
    "# Discrete Fourier Transform"
   ]
  },
  {
   "cell_type": "markdown",
   "metadata": {},
   "source": [
    "(forgot that the outer product existed. whoops)"
   ]
  },
  {
   "cell_type": "code",
   "execution_count": 2,
   "metadata": {},
   "outputs": [
    {
     "data": {
      "text/plain": [
       "array([12. +0.j       , -1.5+0.8660254j, -1.5-0.8660254j])"
      ]
     },
     "execution_count": 2,
     "metadata": {},
     "output_type": "execute_result"
    }
   ],
   "source": [
    "def DFT_1d(arr : np.ndarray) -> np.ndarray:\n",
    "    \"\"\"\n",
    "    Returns the Discrete Fourier Transform of the array 'arr'\n",
    "    \"\"\"\n",
    "    leftArray =  np.fromfunction(lambda x, y: np.power(np.power(np.e,-2 * np.pi * 1j / len(arr)),x * y), (arr.shape[0], arr.shape[0]), dtype=float)\n",
    "    # print(leftArray.shape)\n",
    "    # print(arr.shape)\n",
    "    return leftArray@arr\n",
    "\n",
    "DFT_1d(np.array([3,4,5]))\n",
    "# expected: [12. +0.j        -1.5+0.8660254j -1.5-0.8660254j]"
   ]
  },
  {
   "cell_type": "markdown",
   "metadata": {},
   "source": [
    "## Inverse Discrete Fourier Transform"
   ]
  },
  {
   "cell_type": "code",
   "execution_count": 3,
   "metadata": {},
   "outputs": [],
   "source": [
    "def DFT_1d(arr: np.ndarray, inverse: bool = False) -> np.ndarray:\n",
    "    \"\"\"\n",
    "    Returns the DFT of the array `arr`, with an optional `inverse` argument.\n",
    "    \"\"\"\n",
    "    if inverse:\n",
    "        leftArray =  np.fromfunction(lambda x, y: np.power(np.power(np.e,2 * np.pi * 1j / len(arr)),x * y), (arr.shape[0], arr.shape[0]), dtype=float)\n",
    "        return leftArray@arr / len(arr)\n",
    "    else:\n",
    "        leftArray =  np.fromfunction(lambda x, y: np.power(np.power(np.e,-2 * np.pi * 1j / len(arr)),x * y), (arr.shape[0], arr.shape[0]), dtype=float)\n",
    "        return leftArray@arr\n",
    "    \n",
    "\n",
    "utils.test_DFT_func(DFT_1d)"
   ]
  },
  {
   "cell_type": "markdown",
   "metadata": {},
   "source": [
    "## A sample test function \n",
    "\n",
    "(or, more accurately, lines of code)"
   ]
  },
  {
   "cell_type": "code",
   "execution_count": 4,
   "metadata": {},
   "outputs": [],
   "source": [
    "x = np.array([1, 2 - 1j, -1j, -1 + 2j])\n",
    "expectedTransform = (2, -2 - 2j, -2j, 4 + 4j)\n",
    "gotTransform = DFT_1d(x)\n",
    "np.testing.assert_allclose(expectedTransform,gotTransform, atol=1e-10)"
   ]
  },
  {
   "cell_type": "markdown",
   "metadata": {},
   "source": [
    "# Continuous Fourier Transform"
   ]
  },
  {
   "cell_type": "markdown",
   "metadata": {},
   "source": [
    "## Helper Methods"
   ]
  },
  {
   "cell_type": "code",
   "execution_count": 5,
   "metadata": {},
   "outputs": [],
   "source": [
    "def integrate_function(func: Callable, x0: float, x1: float, n_samples: int = 1000):\n",
    "    \"\"\"\n",
    "    Calculates the approximation of the Riemann integral of the function `func`, \n",
    "    between the limits x0 and x1.\n",
    "\n",
    "    You should use the Left Rectangular Approximation Method (LRAM).\n",
    "    \"\"\"\n",
    "\n",
    "    x_width = (x1 - x0) / n_samples\n",
    "    total = 0\n",
    "    for i in range(n_samples):\n",
    "        total += func(i * x_width + x0) * x_width\n",
    "\n",
    "    return total\n",
    "\n",
    "utils.test_integrate_function(integrate_function)"
   ]
  },
  {
   "cell_type": "code",
   "execution_count": 6,
   "metadata": {},
   "outputs": [],
   "source": [
    "def integrate_product(func1: Callable, func2: Callable, x0: float, x1: float):\n",
    "    \"\"\"\n",
    "    Computes the integral of the function x -> func1(x) * func2(x).\n",
    "    \"\"\"\n",
    "\n",
    "    def product(x):\n",
    "        return func1(x) * func2(x)\n",
    "\n",
    "    return integrate_function(product,x0,x1)\n",
    "\n",
    "utils.test_integrate_product(integrate_product)"
   ]
  },
  {
   "cell_type": "markdown",
   "metadata": {},
   "source": [
    "## Fourier Series"
   ]
  },
  {
   "cell_type": "code",
   "execution_count": 10,
   "metadata": {},
   "outputs": [
    {
     "ename": "NameError",
     "evalue": "name 'create_interactive_fourier_graph' is not defined",
     "output_type": "error",
     "traceback": [
      "\u001b[0;31m---------------------------------------------------------------------------\u001b[0m",
      "\u001b[0;31mNameError\u001b[0m                                 Traceback (most recent call last)",
      "Cell \u001b[0;32mIn [10], line 34\u001b[0m\n\u001b[1;32m     31\u001b[0m     \u001b[39mreturn\u001b[39;00m ((a0, A_n, B_n), newFunction)\n\u001b[1;32m     33\u001b[0m step_func \u001b[39m=\u001b[39m \u001b[39mlambda\u001b[39;00m x: \u001b[39m1\u001b[39m \u001b[39m*\u001b[39m (x \u001b[39m>\u001b[39m \u001b[39m0\u001b[39m)\n\u001b[0;32m---> 34\u001b[0m create_interactive_fourier_graph(calculate_fourier_series, func \u001b[39m=\u001b[39m step_func)\n",
      "\u001b[0;31mNameError\u001b[0m: name 'create_interactive_fourier_graph' is not defined"
     ]
    }
   ],
   "source": [
    "def calculate_fourier_series(func: Callable, max_freq: int = 50):\n",
    "    \"\"\"\n",
    "    Calculates the fourier coefficients of a function, \n",
    "    assumed periodic between [-pi, pi].\n",
    "\n",
    "    Your function should return ((a_0, A_n, B_n), func_approx), where:\n",
    "        a_0 is a float\n",
    "        A_n, B_n are lists of floats, with n going up to `max_freq`\n",
    "        func_approx is the fourier approximation, as described above\n",
    "    \"\"\"\n",
    "    a0 = 1 / np.pi * integrate_function(func,-1 * np.pi, np.pi)\n",
    "    A_n = []\n",
    "    B_n = []\n",
    "\n",
    "    def modifiedCos(x, i):\n",
    "        return np.cos(x * i)\n",
    "\n",
    "    for i in range(1,50):\n",
    "        print(i)\n",
    "        newFunc = lambda x: np.cos(i*x)\n",
    "        A_n.append(1 / np.pi * integrate_product(func, newFunc, -1 * np.pi, np.pi))\n",
    "        newFunc = lambda y: np.sin(i*x)\n",
    "        B_n.append(1 / np.pi * integrate_product(func, newFunc, -1 * np.pi, np.pi))\n",
    "    \n",
    "    def newFunction(x):\n",
    "        output = a0 / 2\n",
    "        for i in range(1,50):\n",
    "            output += A_n[i] * np.cos( (i-0) * x)\n",
    "            output += B_n[i] * np.sin( (i-0) * x)\n",
    "        return output\n",
    "    return ((a0, A_n, B_n), newFunction)\n",
    "\n",
    "step_func = lambda x: 1 * (x > 0)\n",
    "create_interactive_fourier_graph(calculate_fourier_series, func = step_func)"
   ]
  },
  {
   "cell_type": "code",
   "execution_count": 9,
   "metadata": {},
   "outputs": [
    {
     "data": {
      "text/plain": [
       "<module 'ipywidgets._version' from '/Users/codyrushing/mambaforge/envs/ARENAenv/lib/python3.9/site-packages/ipywidgets/_version.py'>"
      ]
     },
     "execution_count": 9,
     "metadata": {},
     "output_type": "execute_result"
    }
   ],
   "source": [
    "wg._version"
   ]
  },
  {
   "cell_type": "code",
   "execution_count": null,
   "metadata": {},
   "outputs": [],
   "source": []
  },
  {
   "cell_type": "code",
   "execution_count": null,
   "metadata": {},
   "outputs": [],
   "source": []
  }
 ],
 "metadata": {
  "kernelspec": {
   "display_name": "Python 3.9.13 ('ARENAenv')",
   "language": "python",
   "name": "python3"
  },
  "language_info": {
   "codemirror_mode": {
    "name": "ipython",
    "version": 3
   },
   "file_extension": ".py",
   "mimetype": "text/x-python",
   "name": "python",
   "nbconvert_exporter": "python",
   "pygments_lexer": "ipython3",
   "version": "3.9.13"
  },
  "orig_nbformat": 4,
  "vscode": {
   "interpreter": {
    "hash": "c1829bf021947e771a2c0399247f13cc64d76e227c4c4356073fc0c03f05b7ca"
   }
  }
 },
 "nbformat": 4,
 "nbformat_minor": 2
}
