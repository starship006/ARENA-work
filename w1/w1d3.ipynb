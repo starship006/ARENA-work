{
 "cells": [
  {
   "cell_type": "code",
   "execution_count": 69,
   "metadata": {},
   "outputs": [],
   "source": [
    "import torch as t\n",
    "import numpy as np\n",
    "from torch import nn\n",
    "import createdFuncs as past\n",
    "import fancy_einsum as einsum\n",
    "import einops\n",
    "import pandas as pd\n"
   ]
  },
  {
   "cell_type": "markdown",
   "metadata": {},
   "source": [
    "# Multihead Attention Block"
   ]
  },
  {
   "cell_type": "markdown",
   "metadata": {},
   "source": [
    "First, I need to change the masked attention block to work over multiple batches. As I'm working through this, I'm reminded that I really need to understand einops and linear algebra. The matrix multiplication really feels like a black box operation!"
   ]
  },
  {
   "cell_type": "code",
   "execution_count": 70,
   "metadata": {},
   "outputs": [],
   "source": [
    "def single_head_masked_attention(Q: t.Tensor, K: t.Tensor, V: t.Tensor) -> t.Tensor:\n",
    "    '''\n",
    "    Should return the results of masked self-attention.\n",
    "\n",
    "    See \"The Decoder Side\" section of the Illustrated Transformer for an explanation of masking.\n",
    "\n",
    "    Q: shape (batch, seq_len, head_size)\n",
    "    K: shape (batch, seq_len, head_size)\n",
    "    V: shape (batch, seq_len, value_size)\n",
    "\n",
    "    Return: shape (batch, seq_len, value_size)\n",
    "    '''\n",
    "    # second step - calculate a \"score\"\n",
    "    newK = einsum.einsum('b s h -> b h s', K)\n",
    "    score = Q@newK\n",
    "    # third step - divide score by dimensionality\n",
    "    score = score / np.sqrt(Q.shape[-1])\n",
    "    print(score.shape)\n",
    "    # MASKING IN BETWEEN!\n",
    "    mask = t.ones(score.shape)\n",
    "    for batch, submask in enumerate(mask):\n",
    "        for i, x in enumerate(submask):\n",
    "            x[i+1:] = -t.inf\n",
    "\n",
    "    score = score * mask\n",
    "    # fourth step - softmax\n",
    "    score = nn.functional.softmax(score, dim=-1)\n",
    "\n",
    "    # fifth step - multiply each value vector by the softmax score\n",
    "    z = score@V\n",
    "    return z"
   ]
  },
  {
   "cell_type": "code",
   "execution_count": 71,
   "metadata": {},
   "outputs": [
    {
     "name": "stdout",
     "output_type": "stream",
     "text": [
      "torch.Size([2, 3, 3])\n",
      "tensor([[[1.0000],\n",
      "         [2.9951],\n",
      "         [3.9820]],\n",
      "\n",
      "        [[1.0000],\n",
      "         [2.9951],\n",
      "         [3.9820]]], dtype=torch.float64)\n"
     ]
    }
   ],
   "source": [
    "# testing the new block\n",
    "# personal mini-test to see if its working correctly\n",
    "Q = t.tensor([[[1],[3],[4]],[[1],[3],[4]]],dtype=float)\n",
    "K = t.tensor([[[1],[3],[4]],[[1],[3],[4]]],dtype=float)\n",
    "V = t.tensor([[[1],[3],[4]],[[1],[3],[4]]],dtype=float)\n",
    "\n",
    "print(single_head_masked_attention(Q,K,V))"
   ]
  },
  {
   "cell_type": "markdown",
   "metadata": {},
   "source": [
    "Here's the multiheaaded attention block!\n",
    "\n",
    "*(Cody on Saturday here: this one does not work fully as intended! I have reimplemented it below, look at it below!)*"
   ]
  },
  {
   "cell_type": "code",
   "execution_count": 72,
   "metadata": {},
   "outputs": [],
   "source": [
    "# this is bad! do not use it!\n",
    "# this is bad! do not use it!\n",
    "# this is bad! do not use it!\n",
    "\n",
    "def multihead_masked_attention(Q: t.Tensor, K: t.Tensor, V: t.Tensor, num_heads: int):\n",
    "    '''\n",
    "    Implements multihead masked attention on the matrices Q, K and V.\n",
    "\n",
    "    Q: shape (batch, seq, nheads*head_size)\n",
    "    K: shape (batch, seq, nheads*head_size)\n",
    "    V: shape (batch, seq, nheads*head_size)\n",
    "    '''\n",
    "    # reshape Q, K, and V into 4D tensors to isolate the different heads\n",
    "    batch, seq, product = Q.shape\n",
    "    head_size = product // num_heads\n",
    "    Q = Q.reshape((batch, seq, num_heads, head_size))\n",
    "    K = K.reshape((batch, seq, num_heads, head_size))\n",
    "    V = V.reshape((batch, seq, num_heads, head_size))\n",
    "\n",
    "    # calculate attention scores\n",
    "    newK = einsum.einsum('b s n h -> b h n s', K)\n",
    "    score = einsum.einsum('b s n h, b h n a -> b s n a', Q, newK)\n",
    "    # third step - divide score by dimensionality\n",
    "    score = score / np.sqrt(Q.shape[-1])\n",
    "    # MASKING IN BETWEEN!\n",
    "    mask = t.ones(score.shape)\n",
    "    for _, batchMask in enumerate(mask):\n",
    "        for i, seqMask in enumerate(batchMask):\n",
    "            for j, x in enumerate(seqMask):\n",
    "                x[i+1:] = -t.inf \n",
    "\n",
    "    score = score * mask\n",
    "    # fourth step - softmax\n",
    "    score = nn.functional.softmax(score, dim=-1)\n",
    "    print(score.shape)\n",
    "    print(V.shape)\n",
    "    # fifth step - multiply each value vector by the softmax score\n",
    "    z = einsum.einsum('b s n s, b s n h -> b s n h ', score, V)\n",
    "    z = z.reshape((batch, seq, product))\n",
    "    return z"
   ]
  },
  {
   "cell_type": "code",
   "execution_count": 73,
   "metadata": {},
   "outputs": [
    {
     "name": "stdout",
     "output_type": "stream",
     "text": [
      "torch.Size([2, 5, 2, 5])\n",
      "torch.Size([2, 5, 2, 2])\n"
     ]
    },
    {
     "data": {
      "text/plain": [
       "tensor([[[15.0000, 14.6667, 14.3333, 14.0000],\n",
       "         [12.6399, 12.3316, 12.6629, 12.3383],\n",
       "         [12.2258, 11.8953, 11.6333, 11.3009],\n",
       "         [10.9897, 10.6567, 10.3302,  9.9969],\n",
       "         [ 9.6657,  9.3324,  8.9997,  8.6664]],\n",
       "\n",
       "        [[ 8.3333,  8.0000,  7.6667,  7.3333],\n",
       "         [ 7.0000,  6.6667,  6.3333,  6.0000],\n",
       "         [ 5.6667,  5.3333,  5.0000,  4.6667],\n",
       "         [ 4.3333,  4.0000,  3.6667,  3.3333],\n",
       "         [ 3.0000,  2.6667,  2.3333,  2.0000]]])"
      ]
     },
     "execution_count": 73,
     "metadata": {},
     "output_type": "execute_result"
    }
   ],
   "source": [
    "# test from James Dao; my stuff continues to work\n",
    "Q = t.linspace(0, 10, 2 * 5 * 4).reshape(2, 5, 4)\n",
    "K = t.linspace(5, 20, 2 * 5 * 4).reshape(2, 5, 4)\n",
    "V = t.linspace(15, 2, 2 * 5 * 4).reshape(2, 5, 4)\n",
    "multihead_masked_attention(Q, K, V, num_heads=2)"
   ]
  },
  {
   "cell_type": "markdown",
   "metadata": {},
   "source": [
    "Making an attention block out of the above function is tricky. May need to come back to it after re-reading some more transformer stuff. For now, I'll go and review einsum :)\n",
    "\n",
    "And... after reviewing, and feeling better, about einsum, I'll need to call it a day."
   ]
  },
  {
   "cell_type": "markdown",
   "metadata": {},
   "source": [
    "Saturday, October 30 - it's been a bit since I've worked on this, and I really need to understand multi-headed attention. But, I don't think I really do, yet, so I'm going to try to write out the previous function again :)"
   ]
  },
  {
   "cell_type": "code",
   "execution_count": 74,
   "metadata": {},
   "outputs": [],
   "source": [
    "def multihead_masked_attention(Q: t.Tensor, K: t.Tensor, V: t.Tensor, num_heads: int):\n",
    "    '''\n",
    "    Implements multihead masked attention on the matrices Q, K and V.\n",
    "\n",
    "    Q: shape (batch, seq_len, nheads*headsize)\n",
    "    K: shape (batch, seq_len, nheads*headsize)\n",
    "    V: shape (batch, seq_len, nheads*headsize)\n",
    "    '''\n",
    "    \n",
    "    Q = einops.rearrange(Q, 'b s (n h) -> b n s h', n = num_heads)\n",
    "    K = einops.rearrange(K, 'b s (n h) -> b n s h', n = num_heads)\n",
    "    V = einops.rearrange(V, 'b s (n h) -> b n s h', n = num_heads)\n",
    "\n",
    "\n",
    "    scores = einsum.einsum('b n k h, b n s h -> b n s k', K, Q)\n",
    "    assert scores.shape == t.Size([Q.shape[0], num_heads,Q.shape[2], K.shape[2]])\n",
    "\n",
    "    scores = scores / np.sqrt(Q.shape[-1])\n",
    "    attention = scores + t.triu(t.ones_like(scores) * float(\"-inf\"), diagonal=1) # THIS IS STOLEN FROM JAY - testing it out\n",
    "    softed = t.softmax(attention,dim=-1)\n",
    "    result =  einsum.einsum('batch numheads seqQ seqK, batch numheads seqK headsize -> batch numheads seqQ headsize',softed, V)\n",
    "    return einops.rearrange(result, 'batch numheads seqQ headsize -> batch seqQ (numheads headsize)')"
   ]
  },
  {
   "cell_type": "code",
   "execution_count": 75,
   "metadata": {},
   "outputs": [
    {
     "data": {
      "text/plain": [
       "tensor([[[15.0000, 14.6667, 14.3333, 14.0000],\n",
       "         [13.7668, 13.4335, 13.0346, 12.7012],\n",
       "         [12.3451, 12.0117, 11.6705, 11.3372],\n",
       "         [11.0013, 10.6679, 10.3337, 10.0004],\n",
       "         [ 9.6668,  9.3335,  9.0000,  8.6667]],\n",
       "\n",
       "        [[ 8.3333,  8.0000,  7.6667,  7.3333],\n",
       "         [ 7.0000,  6.6667,  6.3333,  6.0000],\n",
       "         [ 5.6667,  5.3333,  5.0000,  4.6667],\n",
       "         [ 4.3333,  4.0000,  3.6667,  3.3333],\n",
       "         [ 3.0000,  2.6667,  2.3333,  2.0000]]])"
      ]
     },
     "execution_count": 75,
     "metadata": {},
     "output_type": "execute_result"
    }
   ],
   "source": [
    "# test from James Dao; my stuff continues to work\n",
    "Q = t.linspace(0, 10, 2 * 5 * 4).reshape(2, 5, 4)\n",
    "K = t.linspace(5, 20, 2 * 5 * 4).reshape(2, 5, 4)\n",
    "V = t.linspace(15, 2, 2 * 5 * 4).reshape(2, 5, 4)\n",
    "multihead_masked_attention(Q, K, V, num_heads=2)"
   ]
  },
  {
   "cell_type": "code",
   "execution_count": 76,
   "metadata": {},
   "outputs": [],
   "source": [
    "class MultiheadMaskedAttention(nn.Module):\n",
    "    W_QKV: nn.Linear\n",
    "    W_O: nn.Linear\n",
    "\n",
    "    def __init__(self, hidden_size: int, num_heads: int):\n",
    "        super().__init__()\n",
    "        self.hidden_size = hidden_size\n",
    "        self.num_heads = num_heads\n",
    "        self.head_size = hidden_size // num_heads\n",
    "\n",
    "        self.WQKV = t.nn.Linear(self.hidden_size, 3 * hidden_size) # TODO: why do we use a linear layer here? aren't they matricies?\n",
    "        self.W0 = t.nn.Linear(self.hidden_size, self.hidden_size)\n",
    "\n",
    "    def forward(self, x: t.Tensor) -> t.Tensor:\n",
    "        '''\n",
    "        x: shape (batch, seq, hidden_size)\n",
    "\n",
    "        Return: shape (batch, seq, hidden_size)\n",
    "        '''\n",
    "        #print(\"YO?\")\n",
    "        x = x.float() # seems like it needs to be a float!\n",
    "        QKV = self.WQKV(x)\n",
    "        Q = QKV[:,:,:self.hidden_size]\n",
    "        K = QKV[:,:,self.hidden_size:self.hidden_size * 2]\n",
    "        V = QKV[:,:,self.hidden_size * 2:]\n",
    "        assert Q.shape == K.shape == V.shape == x.shape\n",
    "        return self.W0(multihead_masked_attention(Q,K,V,self.num_heads))"
   ]
  },
  {
   "cell_type": "code",
   "execution_count": 77,
   "metadata": {},
   "outputs": [
    {
     "data": {
      "text/plain": [
       "tensor([[[ -0.7193,   0.4614,   0.4117,  -0.5813,   0.2754,  -0.5745],\n",
       "         [ -0.7746,   0.6206,   0.5520,  -0.7370,   0.1787,  -0.7289],\n",
       "         [ -1.1632,   1.7392,   1.5775,  -1.7907,  -0.5079,  -1.8103]],\n",
       "\n",
       "        [[  0.0549,  -1.9665, -10.8756,  -7.1792,   3.4559,   0.9521],\n",
       "         [ -0.3971,  -0.6652,  -9.6883,  -8.4108,   2.6582,  -0.3063],\n",
       "         [ -0.8686,   0.6920,  -8.4500,  -9.6953,   1.8262,  -1.6189]]],\n",
       "       grad_fn=<ViewBackward0>)"
      ]
     },
     "execution_count": 77,
     "metadata": {},
     "output_type": "execute_result"
    }
   ],
   "source": [
    "t.manual_seed(420)\n",
    "m = MultiheadMaskedAttention(6, 2)\n",
    "x = t.linspace(0, 42, 2 * 3 * 6).reshape(2, 3, 6)\n",
    "m(x)"
   ]
  },
  {
   "cell_type": "markdown",
   "metadata": {},
   "source": [
    "## Putting it All Together"
   ]
  },
  {
   "cell_type": "code",
   "execution_count": 78,
   "metadata": {},
   "outputs": [],
   "source": [
    "from dataclasses import dataclass\n",
    "\n",
    "@dataclass(frozen=True)\n",
    "class TransformerConfig:\n",
    "    '''Constants used throughout your decoder-only transformer model.'''\n",
    "\n",
    "    num_layers: int\n",
    "    num_heads: int\n",
    "    vocab_size: int\n",
    "    hidden_size: int\n",
    "    max_seq_len: int\n",
    "    dropout: float = 0.1\n",
    "    layer_norm_epsilon: float = 1e-05"
   ]
  },
  {
   "cell_type": "markdown",
   "metadata": {},
   "source": [
    "partly copy-pasting - but FIXING -  the positional encoding from previous exercise"
   ]
  },
  {
   "cell_type": "code",
   "execution_count": 79,
   "metadata": {},
   "outputs": [],
   "source": [
    "# from yesterday\n",
    "class PositionalEncoding(nn.Module):\n",
    "\n",
    "    def __init__(self, embedding_dim: int, max_seq_len: int = 5000):\n",
    "        super().__init__()\n",
    "        self.dim = embedding_dim\n",
    "        self.length = max_seq_len\n",
    "\n",
    "        # mostly copied. i understand this, just need to work on \n",
    "        # making more tensors and getting more exposure to methods of making tensors\n",
    "        def P (delta):\n",
    "            n = 10000 # hardcoded\n",
    "            d = embedding_dim\n",
    "            l = max_seq_len\n",
    "            sin_array = np.sin(delta / n ** (2 * np.arange(d//2) / d))\n",
    "            cos_array = np.cos(delta / n ** (2 * np.arange(d//2) / d))\n",
    "\n",
    "            array = np.zeros(d)\n",
    "            array[::2] = sin_array\n",
    "            array[1::2] = cos_array\n",
    "\n",
    "            return array\n",
    "\n",
    "        tokenArray = []\n",
    "        for i in range(max_seq_len):\n",
    "            tokenArray.append(P(i)) # changed from previous design\n",
    "        \n",
    "        self.multMax = t.tensor(np.array(tokenArray), dtype=float)\n",
    "        \n",
    "\n",
    "    def forward(self, x: t.Tensor) -> t.Tensor:\n",
    "        '''\n",
    "        x: shape (batch, seq_len, embedding_dim)\n",
    "        '''\n",
    "        return x + self.multMax[:x.shape[1]]\n"
   ]
  },
  {
   "cell_type": "code",
   "execution_count": 80,
   "metadata": {},
   "outputs": [],
   "source": [
    "class MLP(nn.Module):\n",
    "    def __init__(self, config: TransformerConfig):\n",
    "        super().__init__()\n",
    "        self.hidden_size = config.hidden_size\n",
    "\n",
    "        self.layers = nn.Sequential(\n",
    "            nn.Linear(self.hidden_size, self.hidden_size * 4),\n",
    "            nn.GELU(),\n",
    "            nn.Linear(self.hidden_size * 4, self.hidden_size),\n",
    "            nn.Dropout(config.dropout)\n",
    "        )\n",
    "    def forward(self, x: t.Tensor):\n",
    "        x = x.float() # seems like it needs to be a float!\n",
    "        return self.layers(x).float() # ima do the same thing again!\n"
   ]
  },
  {
   "cell_type": "code",
   "execution_count": 81,
   "metadata": {},
   "outputs": [],
   "source": [
    "class DecoderBlock(nn.Module):\n",
    "\n",
    "    def __init__(self, config: TransformerConfig):\n",
    "        super().__init__()\n",
    "        self.attentionBlock = nn.Sequential(\n",
    "            MultiheadMaskedAttention(config.hidden_size,  config.num_heads),\n",
    "            nn.LayerNorm(config.hidden_size)\n",
    "        )\n",
    "        self.MLP = nn.Sequential(\n",
    "            MLP(config),\n",
    "            nn.LayerNorm(config.hidden_size)\n",
    "        )\n",
    "\n",
    "    def forward(self, x: t.Tensor) -> t.Tensor:\n",
    "        partOne = x + self.attentionBlock(x)\n",
    "        return (partOne + self.MLP(partOne)).float() # seems like it needs to be a float!\n",
    "        "
   ]
  },
  {
   "cell_type": "code",
   "execution_count": 82,
   "metadata": {},
   "outputs": [],
   "source": [
    "class DecoderOnlyTransformer(nn.Module):\n",
    "\n",
    "    def __init__(self, config: TransformerConfig):\n",
    "        super().__init__()\n",
    "        self.tokenize = nn.Embedding(config.vocab_size, config.hidden_size)\n",
    "        self.positionize = PositionalEncoding(config.hidden_size,config.max_seq_len)\n",
    "        self.restModel = nn.Sequential(\n",
    "            nn.Dropout(config.dropout),\n",
    "            *[DecoderBlock(config) for i in range(config.num_layers)],\n",
    "            nn.LayerNorm(config.hidden_size),\n",
    "        )\n",
    "        self.unembed = self.tokenize.weight.T\n",
    "        \n",
    "    def forward(self, x: t.Tensor) -> t.Tensor:\n",
    "        x = self.tokenize(x)\n",
    "        x = self.positionize(x)\n",
    "        toUnembed = self.restModel(x)\n",
    "        return toUnembed@self.unembed"
   ]
  },
  {
   "cell_type": "markdown",
   "metadata": {},
   "source": [
    "## Testing our model!"
   ]
  },
  {
   "cell_type": "code",
   "execution_count": 83,
   "metadata": {},
   "outputs": [],
   "source": [
    "from torch.utils.data import Dataset, DataLoader\n",
    "from torchvision import datasets\n",
    "\n",
    "class CustomTextDataset(Dataset):\n",
    "    def __init__(self,seq_len, total_size):\n",
    "        self.seq_len = seq_len\n",
    "        self.total_size = total_size\n",
    "    \n",
    "    def __len__(self):\n",
    "        return self.total_size\n",
    "\n",
    "    def __getitem__(self, idx):\n",
    "        input = t.randint(0,10,(self.seq_len,))\n",
    "        target = t.flip(input,dims=(0,))\n",
    "        return (input, target) \n"
   ]
  },
  {
   "cell_type": "code",
   "execution_count": 84,
   "metadata": {},
   "outputs": [],
   "source": [
    "thisConfig = TransformerConfig(\n",
    "    num_layers = 2,\n",
    "    num_heads = 8,\n",
    "    vocab_size = 10,\n",
    "    hidden_size = 40, # recall that this = num_heads * headsize\n",
    "    max_seq_len = 10,\n",
    "    dropout = 0.1,\n",
    "    layer_norm_epsilon=0.00001\n",
    ")"
   ]
  },
  {
   "cell_type": "code",
   "execution_count": 85,
   "metadata": {},
   "outputs": [],
   "source": [
    "trainset = CustomTextDataset(8,1000)\n",
    "trainloader = DataLoader(trainset, batch_size=32, shuffle=True)"
   ]
  },
  {
   "cell_type": "code",
   "execution_count": 86,
   "metadata": {},
   "outputs": [
    {
     "data": {
      "text/plain": [
       "(tensor([5, 0, 4, 6, 0, 7, 1, 9]), tensor([9, 1, 7, 0, 6, 4, 0, 5]))"
      ]
     },
     "execution_count": 86,
     "metadata": {},
     "output_type": "execute_result"
    }
   ],
   "source": [
    "trainloader.dataset[3]"
   ]
  },
  {
   "cell_type": "code",
   "execution_count": 87,
   "metadata": {},
   "outputs": [],
   "source": [
    "myTransformer = DecoderOnlyTransformer(thisConfig)\n",
    "optimizer = t.optim.Adam(myTransformer.parameters(), lr=1e-3)\n",
    "criterion = nn.CrossEntropyLoss()"
   ]
  },
  {
   "cell_type": "code",
   "execution_count": 88,
   "metadata": {},
   "outputs": [
    {
     "name": "stdout",
     "output_type": "stream",
     "text": [
      "tensor([0, 0, 5, 3, 5, 1, 2, 5]) tensor([[4, 4, 5, 3, 5, 1, 2, 5]]) tensor([5, 2, 1, 5, 3, 5, 0, 0])\n"
     ]
    }
   ],
   "source": [
    "# Test the model on the first few datapoints\n",
    "myTransformer.eval()\n",
    "for i in range(1):\n",
    "    with t.no_grad():\n",
    "        input, target = trainset[i]\n",
    "        newInput = input[None, :] # TODO: this is so bad please i need to fix this bruh\n",
    "        output = myTransformer(newInput).argmax(dim=-1)\n",
    "        print(input, output, target)"
   ]
  },
  {
   "cell_type": "code",
   "execution_count": 89,
   "metadata": {},
   "outputs": [
    {
     "name": "stdout",
     "output_type": "stream",
     "text": [
      "tensor([3, 9, 1, 0, 5, 4, 4, 5])\n",
      "tensor([[0, 0, 0, 1, 0, 0, 0, 0, 0, 0],\n",
      "        [0, 0, 0, 0, 0, 0, 0, 0, 0, 1],\n",
      "        [0, 1, 0, 0, 0, 0, 0, 0, 0, 0],\n",
      "        [1, 0, 0, 0, 0, 0, 0, 0, 0, 0],\n",
      "        [0, 0, 0, 0, 0, 1, 0, 0, 0, 0],\n",
      "        [0, 0, 0, 0, 1, 0, 0, 0, 0, 0],\n",
      "        [0, 0, 0, 0, 1, 0, 0, 0, 0, 0],\n",
      "        [0, 0, 0, 0, 0, 1, 0, 0, 0, 0]])\n"
     ]
    }
   ],
   "source": [
    "# playing around with how to modify the targets to be able to use it in the criterion\n",
    "for inputs, targets in trainloader:\n",
    "    print(targets[0])\n",
    "    print(t.nn.functional.one_hot(targets[0], num_classes=10)) # yeah, so the loss has gotta be one-hot-encoded!\n",
    "    break"
   ]
  },
  {
   "cell_type": "code",
   "execution_count": 90,
   "metadata": {},
   "outputs": [],
   "source": [
    "NUM_EPOCHS = 120\n",
    "\n",
    "losses = []\n",
    "myTransformer.train()\n",
    "for epoch in range(1, NUM_EPOCHS + 1):\n",
    "    for inputs, targets in trainloader:\n",
    "        outputs = myTransformer(inputs)\n",
    "        targets = t.nn.functional.one_hot(targets, num_classes=10).float()\n",
    "        outputs = einops.rearrange(outputs, 'batch seq vocab -> (batch seq) vocab')\n",
    "        targets = einops.rearrange(targets, 'batch seq vocab -> (batch seq) vocab')\n",
    "\n",
    "        loss = criterion(outputs,targets)\n",
    "\n",
    "        losses.append(loss.item())\n",
    "        \n",
    "        loss.backward()\n",
    "        optimizer.step()\n",
    "        optimizer.zero_grad()"
   ]
  },
  {
   "cell_type": "code",
   "execution_count": 91,
   "metadata": {},
   "outputs": [
    {
     "data": {
      "text/plain": [
       "<AxesSubplot: >"
      ]
     },
     "execution_count": 91,
     "metadata": {},
     "output_type": "execute_result"
    },
    {
     "data": {
      "image/png": "[encoded data removed]",
      "text/plain": [
       "<Figure size 640x480 with 1 Axes>"
      ]
     },
     "metadata": {},
     "output_type": "display_data"
    }
   ],
   "source": [
    "df = pd.DataFrame(losses)\n",
    "df.plot()"
   ]
  },
  {
   "cell_type": "code",
   "execution_count": 93,
   "metadata": {},
   "outputs": [
    {
     "name": "stdout",
     "output_type": "stream",
     "text": [
      "tensor([[2, 9, 4, 0, 6, 5, 3, 1]])\n",
      "tensor([[1, 0, 2, 2, 0, 4, 9, 2]])\n"
     ]
    }
   ],
   "source": [
    "myTransformer.eval()\n",
    "# testing it out\n",
    "for inputs, targets in trainloader:\n",
    "    input = inputs[0]\n",
    "    input = input[None, :]\n",
    "    print(input)\n",
    "    \n",
    "    print(myTransformer(input).argmax(dim=-1))\n",
    "    break"
   ]
  },
  {
   "cell_type": "markdown",
   "metadata": {},
   "source": [
    "# Retrospective:\n",
    "\n",
    "Seeing this - albeit basic - transformer actually reverse the numbers is VERY MUCH satisfying. My implementation of the transformer is very iffy, I threw down a bunch of bandaid fixes at different parts, but it *works*, and that feels unbelievably amazing. \n",
    "\n",
    "The way the transformer still feels a bit abstract to me. Perhaps this is normal, maybe it's not. I can audibly describe the high-level ideas of how keys, queries, and values come together with attentioin, as well as other MLPs and Decoder Blocks, but it hasn't really... clicked, yet. I don't know if it clicks for most people, this architecture just seems too massive to really internalize. Also, I blame my poor understanding of Linear Algebra, that probably isn't helping, either.\n",
    "\n",
    "Simply making this has taught me a lot about the difficulties of AI technical work in general, and is making me update upwards on the skill ceiling of alignment work. This exercise has been the hardest by a large margin, and I've tackled it for multiple days straight. Theres times where everything just feels overwhelming and my brain crashes, and those suck. But I think with practice, I'll get better at understanding these architectures, and not feeling too overwhelmed."
   ]
  },
  {
   "cell_type": "markdown",
   "metadata": {},
   "source": []
  }
 ],
 "metadata": {
  "kernelspec": {
   "display_name": "Python 3 (ipykernel)",
   "language": "python",
   "name": "python3"
  },
  "language_info": {
   "codemirror_mode": {
    "name": "ipython",
    "version": 3
   },
   "file_extension": ".py",
   "mimetype": "text/x-python",
   "name": "python",
   "nbconvert_exporter": "python",
   "pygments_lexer": "ipython3",
   "version": "3.9.13"
  },
  "vscode": {
   "interpreter": {
    "hash": "c1829bf021947e771a2c0399247f13cc64d76e227c4c4356073fc0c03f05b7ca"
   }
  }
 },
 "nbformat": 4,
 "nbformat_minor": 2
}
