{
 "cells": [
  {
   "cell_type": "markdown",
   "metadata": {},
   "source": [
    "So it has turned out that I don't get what einsum is doing very well. Here is some review practice work:"
   ]
  },
  {
   "cell_type": "code",
   "execution_count": 2,
   "metadata": {},
   "outputs": [],
   "source": [
    "import numpy as np\n",
    "import fancy_einsum as einsum"
   ]
  },
  {
   "cell_type": "markdown",
   "metadata": {},
   "source": [
    "1. repeating letters between input arrays indicate values that, along those axes, will be multiplied together. said products make up the values for the output array"
   ]
  },
  {
   "cell_type": "code",
   "execution_count": 74,
   "metadata": {},
   "outputs": [],
   "source": [
    "a = np.array([1, 2, 3])\n",
    "b = np.array([1, 2, 3, 4])"
   ]
  },
  {
   "cell_type": "code",
   "execution_count": 75,
   "metadata": {},
   "outputs": [
    {
     "data": {
      "text/plain": [
       "array([[ 1,  2,  3,  4],\n",
       "       [ 2,  4,  6,  8],\n",
       "       [ 3,  6,  9, 12]])"
      ]
     },
     "execution_count": 75,
     "metadata": {},
     "output_type": "execute_result"
    }
   ],
   "source": [
    "einsum.einsum('i, j -> i j', a, b)"
   ]
  },
  {
   "cell_type": "markdown",
   "metadata": {},
   "source": [
    "write the einsum as a for loop if you don't quite get it!"
   ]
  },
  {
   "cell_type": "code",
   "execution_count": 76,
   "metadata": {},
   "outputs": [
    {
     "name": "stdout",
     "output_type": "stream",
     "text": [
      "[[ 1.  2.  3.  4.]\n",
      " [ 2.  4.  6.  8.]\n",
      " [ 3.  6.  9. 12.]]\n"
     ]
    }
   ],
   "source": [
    "c = np.zeros((3,4))\n",
    "for i in range(3):\n",
    "    for j in range(4):\n",
    "        total = 0\n",
    "\n",
    "        total += a[i] * b[j]\n",
    "        c[i][j] = total\n",
    "\n",
    "print(c)"
   ]
  },
  {
   "cell_type": "code",
   "execution_count": 78,
   "metadata": {},
   "outputs": [
    {
     "data": {
      "text/plain": [
       "array([[ 1,  2,  3],\n",
       "       [ 2,  4,  6],\n",
       "       [ 3,  6,  9],\n",
       "       [ 4,  8, 12]])"
      ]
     },
     "execution_count": 78,
     "metadata": {},
     "output_type": "execute_result"
    }
   ],
   "source": [
    "einsum.einsum('i, j -> j i', a, b)"
   ]
  },
  {
   "cell_type": "code",
   "execution_count": 77,
   "metadata": {},
   "outputs": [
    {
     "name": "stdout",
     "output_type": "stream",
     "text": [
      "[[ 1.  2.  3.]\n",
      " [ 2.  4.  6.]\n",
      " [ 3.  6.  9.]\n",
      " [ 4.  8. 12.]]\n"
     ]
    }
   ],
   "source": [
    "c = np.zeros((4,3))\n",
    "for j in range(4):\n",
    "    for i in range(3):\n",
    "        total = 0\n",
    "        total += a[i] * b[j]\n",
    "        c[j][i] = total\n",
    "print(c)\n"
   ]
  },
  {
   "cell_type": "code",
   "execution_count": 84,
   "metadata": {},
   "outputs": [
    {
     "data": {
      "text/plain": [
       "array([32, 92])"
      ]
     },
     "execution_count": 84,
     "metadata": {},
     "output_type": "execute_result"
    }
   ],
   "source": [
    "a = np.array([[1,2,3], [5,6,7]])\n",
    "b = np.array([4,5,6])\n",
    "\n",
    "einsum.einsum('x i , i -> x', a, b)"
   ]
  },
  {
   "cell_type": "code",
   "execution_count": 85,
   "metadata": {},
   "outputs": [
    {
     "name": "stdout",
     "output_type": "stream",
     "text": [
      "[32. 92.]\n"
     ]
    }
   ],
   "source": [
    "c = np.zeros((2))\n",
    "for x in range(2):\n",
    "    total = 0\n",
    "    for i in range(3):\n",
    "        total += a[x][i] * b[i]\n",
    "    c[x] = total\n",
    "\n",
    "print(c)\n"
   ]
  },
  {
   "cell_type": "code",
   "execution_count": 87,
   "metadata": {},
   "outputs": [
    {
     "data": {
      "text/plain": [
       "array([ 52, 130, 102])"
      ]
     },
     "execution_count": 87,
     "metadata": {},
     "output_type": "execute_result"
    }
   ],
   "source": [
    "a = np.array([[[1,3],[2,9],[3,4]],\n",
    "             [[4,5],[9,6],[3,7]]]) # shape (2,3,2)\n",
    "b = np.array([4,5,6])              # shape (3)\n",
    "\n",
    "einsum.einsum('i j k, j -> j', a, b)"
   ]
  },
  {
   "cell_type": "code",
   "execution_count": 88,
   "metadata": {},
   "outputs": [
    {
     "name": "stdout",
     "output_type": "stream",
     "text": [
      "[ 52. 130. 102.]\n"
     ]
    }
   ],
   "source": [
    "c = np.zeros((3))\n",
    "for j in range(3):\n",
    "    total = 0\n",
    "    for i in range(2):\n",
    "        for k in range(2):\n",
    "            total += a[i][j][k] * b[j]\n",
    "    c[j] = total\n",
    "\n",
    "print(c)"
   ]
  },
  {
   "cell_type": "code",
   "execution_count": 44,
   "metadata": {},
   "outputs": [],
   "source": [
    "a = np.array([[1,2,3,4,5],\n",
    "             [5,6,7,8,9],\n",
    "             [5,6,7,8,9],\n",
    "             [5,6,7,8,9]]) # shape (4,5)\n",
    "\n",
    "b = np.array([[1,2,3,4,5],\n",
    "             [5,6,7,8,9],\n",
    "             [5,6,7,8,9],\n",
    "             [5,6,7,8,9]]) # shape (4,5)"
   ]
  },
  {
   "cell_type": "code",
   "execution_count": 46,
   "metadata": {},
   "outputs": [
    {
     "data": {
      "text/plain": [
       "array([[ 1,  4,  9, 16, 25],\n",
       "       [25, 36, 49, 64, 81],\n",
       "       [25, 36, 49, 64, 81],\n",
       "       [25, 36, 49, 64, 81]])"
      ]
     },
     "execution_count": 46,
     "metadata": {},
     "output_type": "execute_result"
    }
   ],
   "source": [
    "einsum.einsum('i j, i j -> i j', a, b)"
   ]
  },
  {
   "cell_type": "markdown",
   "metadata": {},
   "source": [
    "2. Omitting a letter from the output means that values along that axis will be summed"
   ]
  },
  {
   "cell_type": "code",
   "execution_count": 72,
   "metadata": {},
   "outputs": [],
   "source": [
    "a = np.array([[1, 2, 3],\n",
    "           [2, 2, 2],\n",
    "           [5, 5, 5]])\n",
    "\n",
    "b = np.array([[1, 0, 0],\n",
    "           [1, 1, 0],\n",
    "           [1, 1, 1]])"
   ]
  },
  {
   "cell_type": "code",
   "execution_count": 73,
   "metadata": {},
   "outputs": [
    {
     "data": {
      "text/plain": [
       "array([[[1, 0, 0],\n",
       "        [2, 2, 0],\n",
       "        [3, 3, 3]],\n",
       "\n",
       "       [[2, 0, 0],\n",
       "        [2, 2, 0],\n",
       "        [2, 2, 2]],\n",
       "\n",
       "       [[5, 0, 0],\n",
       "        [5, 5, 0],\n",
       "        [5, 5, 5]]])"
      ]
     },
     "execution_count": 73,
     "metadata": {},
     "output_type": "execute_result"
    }
   ],
   "source": [
    "einsum.einsum('i j, j k -> i j k', a, b)"
   ]
  },
  {
   "cell_type": "code",
   "execution_count": 25,
   "metadata": {},
   "outputs": [
    {
     "data": {
      "text/plain": [
       "array([ 55, 255, 255, 255])"
      ]
     },
     "execution_count": 25,
     "metadata": {},
     "output_type": "execute_result"
    }
   ],
   "source": [
    "einsum.einsum('i j, i j -> i', a, b)"
   ]
  },
  {
   "cell_type": "code",
   "execution_count": 26,
   "metadata": {},
   "outputs": [
    {
     "data": {
      "text/plain": [
       "array([ 76, 112, 156, 208, 268])"
      ]
     },
     "execution_count": 26,
     "metadata": {},
     "output_type": "execute_result"
    }
   ],
   "source": [
    "einsum.einsum('i j, i j -> j', a, b)"
   ]
  },
  {
   "cell_type": "code",
   "execution_count": 27,
   "metadata": {},
   "outputs": [
    {
     "data": {
      "text/plain": [
       "820"
      ]
     },
     "execution_count": 27,
     "metadata": {},
     "output_type": "execute_result"
    }
   ],
   "source": [
    "einsum.einsum('i j, i j -> ', a, b)"
   ]
  },
  {
   "cell_type": "code",
   "execution_count": 41,
   "metadata": {},
   "outputs": [
    {
     "data": {
      "text/plain": [
       "array([168, 204, 240, 276, 312])"
      ]
     },
     "execution_count": 41,
     "metadata": {},
     "output_type": "execute_result"
    }
   ],
   "source": [
    "einsum.einsum('i j, i k -> j', a, b)"
   ]
  },
  {
   "cell_type": "code",
   "execution_count": 89,
   "metadata": {},
   "outputs": [],
   "source": [
    "a = np.array([[1,2,3,4,5],\n",
    "             [5,6,7,8,9],\n",
    "             [5,6,7,8,9],\n",
    "             [5,6,7,8,9]]) # shape (4,5)\n",
    "\n",
    "b = np.array([[1,2],\n",
    "            [3,4],\n",
    "            [5,6],\n",
    "            [7,8]]) # shape (4, 2)"
   ]
  },
  {
   "cell_type": "code",
   "execution_count": 90,
   "metadata": {},
   "outputs": [
    {
     "name": "stdout",
     "output_type": "stream",
     "text": [
      "[[ 15.  30.]\n",
      " [105. 140.]\n",
      " [175. 210.]\n",
      " [245. 280.]]\n"
     ]
    }
   ],
   "source": [
    "c = np.zeros((4,2))\n",
    "for i in range(4):\n",
    "    for k in range(2):\n",
    "        total = 0\n",
    "        for j in range(5):\n",
    "            total += a[i][j] * b[i][k]\n",
    "        c[i][k] = total\n",
    "print(c)"
   ]
  },
  {
   "cell_type": "code",
   "execution_count": 95,
   "metadata": {},
   "outputs": [
    {
     "data": {
      "text/plain": [
       "array([[[ 1,  2],\n",
       "        [ 2,  4],\n",
       "        [ 3,  6],\n",
       "        [ 4,  8],\n",
       "        [ 5, 10]],\n",
       "\n",
       "       [[15, 20],\n",
       "        [18, 24],\n",
       "        [21, 28],\n",
       "        [24, 32],\n",
       "        [27, 36]],\n",
       "\n",
       "       [[25, 30],\n",
       "        [30, 36],\n",
       "        [35, 42],\n",
       "        [40, 48],\n",
       "        [45, 54]],\n",
       "\n",
       "       [[35, 40],\n",
       "        [42, 48],\n",
       "        [49, 56],\n",
       "        [56, 64],\n",
       "        [63, 72]]])"
      ]
     },
     "execution_count": 95,
     "metadata": {},
     "output_type": "execute_result"
    }
   ],
   "source": [
    "einsum.einsum(\"i j, i k-> i j k\", a, b)"
   ]
  },
  {
   "cell_type": "code",
   "execution_count": null,
   "metadata": {},
   "outputs": [],
   "source": []
  }
 ],
 "metadata": {
  "kernelspec": {
   "display_name": "Python 3.9.13 ('ARENAenv')",
   "language": "python",
   "name": "python3"
  },
  "language_info": {
   "codemirror_mode": {
    "name": "ipython",
    "version": 3
   },
   "file_extension": ".py",
   "mimetype": "text/x-python",
   "name": "python",
   "nbconvert_exporter": "python",
   "pygments_lexer": "ipython3",
   "version": "3.9.13"
  },
  "orig_nbformat": 4,
  "vscode": {
   "interpreter": {
    "hash": "c1829bf021947e771a2c0399247f13cc64d76e227c4c4356073fc0c03f05b7ca"
   }
  }
 },
 "nbformat": 4,
 "nbformat_minor": 2
}
